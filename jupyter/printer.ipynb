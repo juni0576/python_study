{
 "cells": [
  {
   "cell_type": "markdown",
   "id": "3af5f19e",
   "metadata": {},
   "source": [
    "안녕하세요 따옴표 표시 할라고요"
   ]
  },
  {
   "cell_type": "code",
   "execution_count": 1,
   "id": "e77c181a",
   "metadata": {},
   "outputs": [
    {
     "name": "stdout",
     "output_type": "stream",
     "text": [
      "안녕하세요\n",
      "안녕하세요 따옴표 표시 할라고요\n",
      "\"안녕하세요 따옴표 표시 할라고요\"\n"
     ]
    }
   ],
   "source": [
    "print(\"안녕하세요\")\n",
    "print('안녕하세요 따옴표 표시 할라고요')\n",
    "print('\"안녕하세요 따옴표 표시 할라고요\"')"
   ]
  },
  {
   "cell_type": "code",
   "execution_count": 3,
   "id": "36cec41b",
   "metadata": {},
   "outputs": [
    {
     "name": "stdout",
     "output_type": "stream",
     "text": [
      "4.140000000000001\n",
      "<class 'int'>\n",
      "3.14\n",
      "<class 'float'>\n"
     ]
    }
   ],
   "source": [
    "pi= 3.14\n",
    "a=1\n",
    "print(pi+a)\n",
    "print(type(a))\n",
    "a=3.14\n",
    "print(a)\n",
    "print(type(a))"
   ]
  },
  {
   "cell_type": "code",
   "execution_count": null,
   "id": "8dc665d5",
   "metadata": {},
   "outputs": [
    {
     "name": "stdout",
     "output_type": "stream",
     "text": [
      "현재의 세율은 35.0% 입니다.\n"
     ]
    }
   ],
   "source": [
    "TAX_RATE = 0.35\n",
    "tax = 1000 * TAX_RATE\n",
    "income = 1000 - tax\n",
    "print(f\"현재의 세율은 {TAX_RATE*100}% 입니다.\")"
   ]
  }
 ],
 "metadata": {
  "kernelspec": {
   "display_name": ".venv",
   "language": "python",
   "name": "python3"
  },
  "language_info": {
   "codemirror_mode": {
    "name": "ipython",
    "version": 3
   },
   "file_extension": ".py",
   "mimetype": "text/x-python",
   "name": "python",
   "nbconvert_exporter": "python",
   "pygments_lexer": "ipython3",
   "version": "3.13.5"
  }
 },
 "nbformat": 4,
 "nbformat_minor": 5
}
