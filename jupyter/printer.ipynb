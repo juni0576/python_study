{
 "cells": [
  {
   "cell_type": "markdown",
   "id": "3af5f19e",
   "metadata": {},
   "source": [
    "안녕하세요 따옴표 표시 할라고요"
   ]
  },
  {
   "cell_type": "code",
   "execution_count": 1,
   "id": "e77c181a",
   "metadata": {},
   "outputs": [
    {
     "name": "stdout",
     "output_type": "stream",
     "text": [
      "안녕하세요\n",
      "안녕하세요 따옴표 표시 할라고요\n",
      "\"안녕하세요 따옴표 표시 할라고요\"\n"
     ]
    }
   ],
   "source": [
    "print(\"안녕하세요\")\n",
    "print('안녕하세요 따옴표 표시 할라고요')\n",
    "print('\"안녕하세요 따옴표 표시 할라고요\"')"
   ]
  },
  {
   "cell_type": "code",
   "execution_count": 3,
   "id": "36cec41b",
   "metadata": {},
   "outputs": [
    {
     "name": "stdout",
     "output_type": "stream",
     "text": [
      "4.140000000000001\n",
      "<class 'int'>\n",
      "3.14\n",
      "<class 'float'>\n"
     ]
    }
   ],
   "source": [
    "pi= 3.14\n",
    "a=1\n",
    "print(pi+a)\n",
    "print(type(a))\n",
    "a=3.14\n",
    "print(a)\n",
    "print(type(a))"
   ]
  },
  {
   "cell_type": "code",
   "execution_count": 10,
   "id": "8dc665d5",
   "metadata": {},
   "outputs": [
    {
     "name": "stdout",
     "output_type": "stream",
     "text": [
      "현재의 세율은 35.0% 입니다.\n"
     ]
    },
    {
     "data": {
      "text/plain": [
       "1"
      ]
     },
     "execution_count": 10,
     "metadata": {},
     "output_type": "execute_result"
    }
   ],
   "source": [
    "TAX_RATE = 0.35\n",
    "tax = 1000 * TAX_RATE\n",
    "income = 1000 - tax\n",
    "print(f\"현재의 세율은 {TAX_RATE*100}% 입니다.\")"
   ]
  },
  {
   "cell_type": "code",
   "execution_count": 9,
   "id": "6b6b0712",
   "metadata": {},
   "outputs": [
    {
     "data": {
      "text/plain": [
       "7"
      ]
     },
     "execution_count": 9,
     "metadata": {},
     "output_type": "execute_result"
    }
   ],
   "source": [
    "3**3\n",
    "9%2\n",
    "1+2*3"
   ]
  },
  {
   "cell_type": "code",
   "execution_count": 12,
   "id": "c349240e",
   "metadata": {},
   "outputs": [
    {
     "data": {
      "text/plain": [
       "3.0"
      ]
     },
     "execution_count": 12,
     "metadata": {},
     "output_type": "execute_result"
    }
   ],
   "source": [
    "from math import *\n",
    "sqrt(9)"
   ]
  },
  {
   "cell_type": "code",
   "execution_count": 16,
   "id": "1095b51a",
   "metadata": {},
   "outputs": [
    {
     "name": "stdout",
     "output_type": "stream",
     "text": [
      "합은 14\n",
      "안녕하세요 4님! 당신은 6세가 맞죠?\n"
     ]
    }
   ],
   "source": [
    "x=int(input(\"첫번째 정수\"))\n",
    "y=int(input(\"두번째 정수\"))\n",
    "sum= x+y\n",
    "print(\"합은\", sum)\n",
    "\n",
    "name = input(\"이름이 무엇인가요?\")\n",
    "age = int(input(\"나이가 몇살인가요?\"))\n",
    "print(f\"안녕하세요 {name}님! 당신은 {age}세가 맞죠?\")"
   ]
  },
  {
   "cell_type": "code",
   "execution_count": 17,
   "id": "d586ad80",
   "metadata": {},
   "outputs": [
    {
     "data": {
      "text/plain": [
       "0.30000000000000004"
      ]
     },
     "execution_count": 17,
     "metadata": {},
     "output_type": "execute_result"
    }
   ],
   "source": [
    "# float 저장법이 쉽지않음. 그래서 float를 사용하는 것을 조심할 필요가 있음. 정수*정수 = 정수. 정수/정수 = 실수. 조심하기\n",
    "a=0.1\n",
    "b=0.2\n",
    "a+b"
   ]
  },
  {
   "cell_type": "code",
   "execution_count": 18,
   "id": "4ffed8da",
   "metadata": {},
   "outputs": [
    {
     "name": "stdout",
     "output_type": "stream",
     "text": [
      "c:\temp\n",
      "ame\n"
     ]
    }
   ],
   "source": [
    "print(\"c:\\temp\\name\")\n",
    "print(r\"c:\\temp\\name\")"
   ]
  },
  {
   "cell_type": "code",
   "execution_count": 31,
   "id": "675e7412",
   "metadata": {},
   "outputs": [
    {
     "name": "stdout",
     "output_type": "stream",
     "text": [
      "상품의 가격은 1000원입니다\n",
      "현재 시간은 12:00PM입니다\n",
      "오늘은 3월 1일입니다\n",
      "오늘은 3월 2일입니다\n",
      "지금 잔액은 1000입니다\n",
      "지금 시간은 12:00PM이고, 온도는 25도입니다\n",
      "지금 시간은 8이고, 온도는 3도입니다\n",
      "오늘은 5월 5일입니다\n",
      "입력한 숫자는 2.89입니다\n"
     ]
    }
   ],
   "source": [
    "price = 1000\n",
    "print(\"상품의 가격은 %s원입니다\" %price) #문자열이 됨\n",
    "\n",
    "message = \"현재 시간은 %s입니다\"\n",
    "time = \"12:00PM\"\n",
    "print(message % time)\n",
    "\n",
    "message = \"오늘은 %s월 %s일입니다\"\n",
    "print(message % (3, 1))\n",
    "\n",
    "message = \"오늘은 %d월 %d일입니다\"\n",
    "print(message % (3, 2))\n",
    "\n",
    "cash = 1000\n",
    "print(f\"지금 잔액은 {cash}입니다\")\n",
    "\n",
    "message = \"지금 시간은 %s이고, 온도는 %d도입니다\"\n",
    "temp = 25\n",
    "print(message % (time, temp))\n",
    "\n",
    "print(message % (input(\"시간을 입력하세요\"), int(input(\"온도를 입력하세요\"))))\n",
    "\n",
    "month = input(\"월을 입력하세요\")\n",
    "day = input(\"일을 입력하세요\")\n",
    "message = \"오늘은 %s월 %s일입니다\"\n",
    "print(message % (month, day))\n",
    "\n",
    "num=float(input(\"숫자를 입력하세요\"))\n",
    "message = \"입력한 숫자는 %.2f입니다\"\n",
    "print(message % num)"
   ]
  },
  {
   "cell_type": "code",
   "execution_count": null,
   "id": "bb799017",
   "metadata": {},
   "outputs": [
    {
     "name": "stdout",
     "output_type": "stream",
     "text": [
      "두 수의 합:  12\n",
      "두 수의 차:  -2\n",
      "두 수의 곱:  35\n",
      "두 수의 평균:  6.0\n"
     ]
    },
    {
     "ename": "TypeError",
     "evalue": "'int' object is not callable",
     "output_type": "error",
     "traceback": [
      "\u001b[31m---------------------------------------------------------------------------\u001b[39m",
      "\u001b[31mTypeError\u001b[39m                                 Traceback (most recent call last)",
      "\u001b[36mCell\u001b[39m\u001b[36m \u001b[39m\u001b[32mIn[41]\u001b[39m\u001b[32m, line 8\u001b[39m\n\u001b[32m      6\u001b[39m \u001b[38;5;28mprint\u001b[39m(\u001b[33m\"\u001b[39m\u001b[33m두 수의 곱: \u001b[39m\u001b[33m\"\u001b[39m, x*y)\n\u001b[32m      7\u001b[39m \u001b[38;5;28mprint\u001b[39m(\u001b[33m\"\u001b[39m\u001b[33m두 수의 평균: \u001b[39m\u001b[33m\"\u001b[39m, (x+y)/\u001b[32m2\u001b[39m)\n\u001b[32m----> \u001b[39m\u001b[32m8\u001b[39m \u001b[38;5;28mprint\u001b[39m(\u001b[33m\"\u001b[39m\u001b[33m두 수 중 큰 수: \u001b[39m\u001b[33m\"\u001b[39m, \u001b[38;5;28;43mmax\u001b[39;49m\u001b[43m(\u001b[49m\u001b[43mx\u001b[49m\u001b[43m,\u001b[49m\u001b[43m \u001b[49m\u001b[43my\u001b[49m\u001b[43m)\u001b[49m)\n\u001b[32m      9\u001b[39m \u001b[38;5;28mprint\u001b[39m(\u001b[33m\"\u001b[39m\u001b[33m두 수 중 작은 수: \u001b[39m\u001b[33m\"\u001b[39m, \u001b[38;5;28mmin\u001b[39m(x, y))\n",
      "\u001b[31mTypeError\u001b[39m: 'int' object is not callable"
     ]
    }
   ],
   "source": [
    "# 1번문제\n",
    "x = int(input(\"첫번째 숫자를 입력하세요\"))\n",
    "y = int(input(\"두번째 숫자를 입력하세요\"))\n",
    "\n",
    "print(\"두 수의 합: \", x+y)\n",
    "print(\"두 수의 차: \", x-y)\n",
    "print(\"두 수의 곱: \", x*y)\n",
    "print(\"두 수의 평균: \", (x+y)/2)\n",
    "print(\"두 수 중 큰 수: \", max(x, y))\n",
    "print(\"두 수 중 작은 수: \", min(x, y))\n"
   ]
  },
  {
   "cell_type": "code",
   "execution_count": null,
   "id": "b43fb255",
   "metadata": {},
   "outputs": [
    {
     "name": "stdout",
     "output_type": "stream",
     "text": [
      "총 다리의 수는 32개 입니다.\n"
     ]
    }
   ],
   "source": [
    "# 2번 문제\n",
    "chi_leg=2\n",
    "cow_leg=4\n",
    "pig_leg=4\n",
    "\n",
    "num_chi=int(input(\"닭의 수를 입력하세요\"))\n",
    "num_cow=int(input(\"소의 수를 입력하세요\")) \n",
    "num_pig=int(input(\"돼지의 수를 입력하세요\"))\n",
    "total_legs = (num_chi * chi_leg) + (num_cow * cow_leg) + (num_pig * pig_leg)\n",
    "print(f\"총 다리의 수는 {total_legs}개 입니다.\")"
   ]
  },
  {
   "cell_type": "code",
   "execution_count": null,
   "id": "42e0673f",
   "metadata": {},
   "outputs": [
    {
     "name": "stdout",
     "output_type": "stream",
     "text": [
      "삼각형의 나머지 변의 최대 길이는 11입니다\n"
     ]
    }
   ],
   "source": [
    "# 3번 문제\n",
    "#삼각형의 두 변의 길이를 받아 나머지 변의 최대길이를 구하는 프로그램\n",
    "x=int(input(\"삼각형 첫번째 변의 길이를 입력하세요\"))\n",
    "y=int(input(\"삼각형 두번째 변의 길이를 입력하세요\"))\n",
    "z=x+y-1\n",
    "message = \"삼각형의 나머지 변의 최대 길이는 %d입니다\"\n",
    "print(message % z)"
   ]
  },
  {
   "cell_type": "code",
   "execution_count": null,
   "id": "35d4892a",
   "metadata": {},
   "outputs": [
    {
     "name": "stdout",
     "output_type": "stream",
     "text": [
      "1시간은 3600초이고, 5분은 300초입니다\n"
     ]
    }
   ],
   "source": [
    "# 4번 문제\n",
    "h=int(input(\"hours to seconds conversion\"))\n",
    "m=int(input(\"minutes to seconds conversion\"))\n",
    "\n",
    "h_seconds = h*3600\n",
    "m_seconds = m*60\n",
    "message = \"%d시간은 %d초이고, %d분은 %d초입니다\"\n",
    "print(message % (h, h_seconds, m, m_seconds))"
   ]
  },
  {
   "cell_type": "code",
   "execution_count": null,
   "id": "8c9602a5",
   "metadata": {},
   "outputs": [
    {
     "name": "stdout",
     "output_type": "stream",
     "text": [
      "화씨 57.00도를 섭씨로 바꾸면 13.89도임\n"
     ]
    }
   ],
   "source": [
    "# 5번 문제\n",
    "F= float(input(\"온도를 화씨로 입력하세요\"))\n",
    "F2CC = (F - 32) * 5 / 9\n",
    "message = \"화씨 %.2f도를 섭씨로 바꾸면 %.2f도임\"\n",
    "print(message % (F, F2CC))"
   ]
  },
  {
   "cell_type": "code",
   "execution_count": null,
   "id": "051349a4",
   "metadata": {},
   "outputs": [
    {
     "ename": "TypeError",
     "evalue": "not enough arguments for format string",
     "output_type": "error",
     "traceback": [
      "\u001b[31m---------------------------------------------------------------------------\u001b[39m",
      "\u001b[31mTypeError\u001b[39m                                 Traceback (most recent call last)",
      "\u001b[36mCell\u001b[39m\u001b[36m \u001b[39m\u001b[32mIn[3]\u001b[39m\u001b[32m, line 6\u001b[39m\n\u001b[32m      4\u001b[39m total_cost = cost + tip\n\u001b[32m      5\u001b[39m message = \u001b[33m\"\u001b[39m\u001b[33m음식 전체 가격은 \u001b[39m\u001b[38;5;132;01m%d\u001b[39;00m\u001b[33m원입니다. 팁은 \u001b[39m\u001b[38;5;132;01m%d\u001b[39;00m\u001b[33m \u001b[39m\u001b[33m\"\u001b[39m+\u001b[33m\"\u001b[39m\u001b[33m%\u001b[39m\u001b[33m\"\u001b[39m+\u001b[33m\"\u001b[39m\u001b[33m입니다.\u001b[39m\u001b[33m\"\u001b[39m\n\u001b[32m----> \u001b[39m\u001b[32m6\u001b[39m \u001b[38;5;28mprint\u001b[39m(\u001b[43mmessage\u001b[49m\u001b[43m \u001b[49m\u001b[43m%\u001b[49m\u001b[43m \u001b[49m\u001b[43m(\u001b[49m\u001b[43mtotal_cost\u001b[49m\u001b[43m,\u001b[49m\u001b[43m \u001b[49m\u001b[43mtip\u001b[49m\u001b[43m)\u001b[49m)\n",
      "\u001b[31mTypeError\u001b[39m: not enough arguments for format string"
     ]
    }
   ],
   "source": [
    "# 6번 문제\n",
    "cost = int(input(\"음식의 가격\"))\n",
    "tip_rate = 0.1\n",
    "tip = cost * tip_rate\n",
    "total_cost = cost + tip\n",
    "message = \"음식 전체 가격은 %d원입니다. 팁은 %d입니다.\"\n",
    "print(message % (total_cost, tip))\n"
   ]
  },
  {
   "cell_type": "code",
   "execution_count": null,
   "id": "d25a1cc6",
   "metadata": {},
   "outputs": [
    {
     "name": "stdout",
     "output_type": "stream",
     "text": [
      "1.0\n"
     ]
    }
   ],
   "source": [
    "# 7번 문제\n",
    "import math\n",
    "x1=int(input(\"첫번째 x좌표\"))\n",
    "y1=int(input(\"첫번째 y좌표\"))\n",
    "x2=int(input(\"두번째 x좌표\"))\n",
    "y2=int(input(\"두번째 y좌표\"))\n",
    "\n",
    "distance = math.sqrt((x2 - x1)**2 + (y2 - y1)**2)\n",
    "print(distance)"
   ]
  },
  {
   "cell_type": "code",
   "execution_count": null,
   "id": "59b8823a",
   "metadata": {},
   "outputs": [],
   "source": [
    "# 8번 문제\n"
   ]
  },
  {
   "cell_type": "code",
   "execution_count": null,
   "id": "24b01b75",
   "metadata": {},
   "outputs": [
    {
     "name": "stdout",
     "output_type": "stream",
     "text": [
      "각 자리수의 합은 18\n"
     ]
    }
   ],
   "source": [
    "# 9번 문제\n",
    "num = input(\"4자리 정수를 입력하시오\")\n",
    "ln=list(num)\n",
    "for i in range(len(ln)):\n",
    "    ln[i] = int(ln[i])\n",
    "print(\"각 자리수의 합은\", sum(ln))\n",
    "\n"
   ]
  },
  {
   "cell_type": "code",
   "execution_count": 16,
   "id": "999e0f63",
   "metadata": {},
   "outputs": [
    {
     "name": "stdout",
     "output_type": "stream",
     "text": [
      "10\n"
     ]
    }
   ],
   "source": [
    "#9 다른 풀이\n",
    "num = int(input(\"4자리 숫자를 넣으슈\"))\n",
    "Th = num // 1000\n",
    "na = num % 1000\n",
    "Hu = na // 100\n",
    "na = na % 100\n",
    "Te = na // 10\n",
    "na = na % 10\n",
    "print(Th+Hu+Te+na)"
   ]
  },
  {
   "cell_type": "code",
   "execution_count": null,
   "id": "d3c19f7b",
   "metadata": {},
   "outputs": [
    {
     "name": "stdout",
     "output_type": "stream",
     "text": [
      "원하신 그 숫자가 이게 맞나요? 123,456\n",
      "입력받은 값은 123,456\n"
     ]
    }
   ],
   "source": [
    "#12번 문제\n",
    "num = input(\"100,000에서 999,999사이의 숫자를 입력하시오\")\n",
    "ln=list(num)\n",
    "ln.insert(-3, ',')\n",
    "num2 = ''.join(ln)\n",
    "print(\"원하신 그 숫자가 이게 맞나요?\",num2)\n",
    "\n",
    "# GOD GPT\n",
    "# print(f\"입력받은 값은 {int(num):,}\")\n"
   ]
  },
  {
   "cell_type": "code",
   "execution_count": null,
   "id": "29203a17",
   "metadata": {},
   "outputs": [
    {
     "name": "stdout",
     "output_type": "stream",
     "text": [
      "123 , 456\n",
      "123,456\n",
      "123,456\n",
      "123,456\n"
     ]
    }
   ],
   "source": [
    "#12번 문제풀이. 2가지가 핵심. if, print문 조합\n",
    "num = int(input(\"숫자를 입력하시오 : \"))\n",
    "if num >=100000 and num<1000000:\n",
    "    moreT = num//1000\n",
    "    lessT = num%1000\n",
    "    print(moreT,\",\",lessT)\n",
    "    print(f\"{moreT},{lessT}\")\n",
    "    print(str(moreT)+\",\"+str(lessT))\n",
    "    print(\"%d,%d\" %(moreT,lessT))\n",
    "else:\n",
    "    print(\"숫자가 범위 밖에 있습니다.\")\n"
   ]
  },
  {
   "cell_type": "code",
   "execution_count": 27,
   "id": "e3372073",
   "metadata": {},
   "outputs": [
    {
     "name": "stdout",
     "output_type": "stream",
     "text": [
      "주류 구매 불가능합니다\n"
     ]
    }
   ],
   "source": [
    "age = int(input(\"나이를 적으시오\"))\n",
    "print(\"주류 구매 \", end='')\n",
    "if (age>=19):\n",
    "    print(\"가능\",end='')\n",
    "else:\n",
    "    print(\"불가능\", end='')\n",
    "print(\"합니다\")\n",
    "\n"
   ]
  },
  {
   "cell_type": "code",
   "execution_count": 30,
   "id": "7ba9cd1a",
   "metadata": {},
   "outputs": [
    {
     "data": {
      "text/plain": [
       "True"
      ]
     },
     "execution_count": 30,
     "metadata": {},
     "output_type": "execute_result"
    }
   ],
   "source": [
    "flag = True\n",
    "flag"
   ]
  },
  {
   "cell_type": "code",
   "execution_count": 33,
   "id": "28120a26",
   "metadata": {},
   "outputs": [
    {
     "name": "stdout",
     "output_type": "stream",
     "text": [
      "학점 F\n"
     ]
    }
   ],
   "source": [
    "score = int(input(\"점수 입력\"))\n",
    "print(\"학점 \", end='')\n",
    "if score >=90:\n",
    "    print(\"A\")\n",
    "elif score >=70:\n",
    "    print(\"B\")\n",
    "elif score >=50:\n",
    "    print(\"C\")\n",
    "else:\n",
    "    print(\"F\")\n",
    "    "
   ]
  },
  {
   "cell_type": "code",
   "execution_count": 37,
   "id": "7bea537d",
   "metadata": {},
   "outputs": [
    {
     "name": "stdout",
     "output_type": "stream",
     "text": [
      "10개를 산다\n"
     ]
    }
   ],
   "source": [
    "appleQuality = input(\"사과의 상태를 입력하십시오\")\n",
    "applePrice = int(input(\"사과 1개의 가격을 입력하십시오\"))\n",
    "if appleQuality == \"신선\":\n",
    "    if applePrice <1000:\n",
    "        print(\"10개를 산다\")\n",
    "    else:\n",
    "        print(\"5개를 산다\")\n",
    "else:\n",
    "    print(\"사과를 사지 않는다\")"
   ]
  },
  {
   "cell_type": "code",
   "execution_count": null,
   "id": "e61afbca",
   "metadata": {},
   "outputs": [],
   "source": [
    "#조건문 1번 문제\n",
    "num1 = int(input(\"첫번째 상수\"))\n",
    "num2 = int(input(\"두번째 상수\"))\n",
    "if (num1%num2 ==0):\n",
    "    print(\"약수입니다\")\n"
   ]
  },
  {
   "cell_type": "code",
   "execution_count": null,
   "id": "a88ac8a5",
   "metadata": {},
   "outputs": [
    {
     "name": "stdout",
     "output_type": "stream",
     "text": [
      "긴바지를 추천\n"
     ]
    }
   ],
   "source": [
    "#조건문 2번 문제\n",
    "temp = int(input(\"현재의 온도는요?\"))\n",
    "if (temp>=25):\n",
    "    print(\"반바지를 \",end='')\n",
    "else:\n",
    "    print(\"긴바지를 \",end='')\n",
    "print(\"추천\")\n"
   ]
  },
  {
   "cell_type": "code",
   "execution_count": 40,
   "id": "37dc710f",
   "metadata": {},
   "outputs": [
    {
     "name": "stdout",
     "output_type": "stream",
     "text": [
      "Triangle\n"
     ]
    }
   ],
   "source": [
    "#조건문 3번 문제\n",
    "shape = input(\"R,T,C 택1 추천\")\n",
    "if (shape == 'r') or (shape=='R'):\n",
    "    print(\"Rectangle\")\n",
    "elif (shape == 't') or (shape=='T'):\n",
    "    print(\"Triangle\")\n",
    "elif (shape == 'c') or (shape=='C'):\n",
    "    print(\"Circle\")\n",
    "else:\n",
    "    print(\"Unknown\")"
   ]
  },
  {
   "cell_type": "code",
   "execution_count": 43,
   "id": "fc9a9641",
   "metadata": {},
   "outputs": [
    {
     "name": "stdout",
     "output_type": "stream",
     "text": [
      "잘못된 값입니다.\n"
     ]
    }
   ],
   "source": [
    "#조건문 4번 문제\n",
    "import math\n",
    "r = int(input(\"원의 반지름을 알려주면 원의 넓이를 구해요\"))\n",
    "if r>0:\n",
    "    print(math.pi*r**2)\n",
    "else:\n",
    "    print(\"잘못된 값입니다.\")"
   ]
  },
  {
   "cell_type": "code",
   "execution_count": 45,
   "id": "2dbf79c7",
   "metadata": {},
   "outputs": [
    {
     "name": "stdout",
     "output_type": "stream",
     "text": [
      "num3(2)이 제일 작다.\n"
     ]
    }
   ],
   "source": [
    "#조건문 5번 문제\n",
    "num1 = int(input(\"정수1\"))\n",
    "num2 = int(input(\"정수2\"))\n",
    "num3 = int(input(\"정수3\"))\n",
    "\n",
    "if num1<num2 and num1<num3:\n",
    "    print(f\"num1({num1})이 제일 작다.\")\n",
    "elif num2<num1 and num2<num3:\n",
    "    print(f\"num2({num2})이 제일 작다.\")\n",
    "else :\n",
    "    print(f\"num3({num3})이 제일 작다.\")\n"
   ]
  },
  {
   "cell_type": "code",
   "execution_count": 48,
   "id": "20bb526d",
   "metadata": {},
   "outputs": [
    {
     "name": "stdout",
     "output_type": "stream",
     "text": [
      "비겼다\n"
     ]
    }
   ],
   "source": [
    "#조건문 6번 문제\n",
    "import random\n",
    "com = random.randint(1,3)\n",
    "User = int(input(\"가위바위보 \\n 가위 : 1 바위 : 2 보 : 3\"))\n",
    "\n",
    "if com == 1:\n",
    "    if User == 1:\n",
    "        print(\"비겼다\")\n",
    "    elif User == 2:\n",
    "        print(\"이겼다\")\n",
    "    else:\n",
    "        print(\"졌다\")\n",
    "elif com == 2:\n",
    "    if User == 1:\n",
    "        print(\"졌다\")\n",
    "    elif User == 2:\n",
    "        print(\"비겼다\")\n",
    "    else:\n",
    "        print(\"이겼다\")\n",
    "else:\n",
    "    if User == 1:\n",
    "        print(\"이겼다\")\n",
    "    elif User == 2:\n",
    "        print(\"졌다\")\n",
    "    else:\n",
    "        print(\"비겼다\")\n"
   ]
  },
  {
   "cell_type": "code",
   "execution_count": 50,
   "id": "3a18b8a0",
   "metadata": {},
   "outputs": [
    {
     "name": "stdout",
     "output_type": "stream",
     "text": [
      "입장 불가능\n"
     ]
    }
   ],
   "source": [
    "#조건문 7번 문제\n",
    "h=int(input(\"키\"))\n",
    "age = int(input(\"나이\"))\n",
    "\n",
    "if (h>=140) and (age>=10):\n",
    "    print(\"입장가능\")\n",
    "else:\n",
    "    print(\"입장 불가능\")"
   ]
  },
  {
   "cell_type": "code",
   "execution_count": 52,
   "id": "d0ff0516",
   "metadata": {},
   "outputs": [
    {
     "name": "stdout",
     "output_type": "stream",
     "text": [
      "과체중이세요\n"
     ]
    }
   ],
   "source": [
    "#조건문 8번 문제\n",
    "h=float(input(\"키는요?\"))\n",
    "w=float(input(\"몸무게는요?\"))\n",
    "std_w=(h-100)*0.9\n",
    "if w>std_w:\n",
    "    print(\"과체중이세요\")\n",
    "elif w==std_w:\n",
    "    print(\"딱 표준체중이세요\")\n",
    "else:\n",
    "    print(\"저체중이세요\")\n"
   ]
  },
  {
   "cell_type": "code",
   "execution_count": null,
   "id": "f011383d",
   "metadata": {},
   "outputs": [
    {
     "name": "stdout",
     "output_type": "stream",
     "text": [
      "364-156=?\n",
      "정답!\n"
     ]
    }
   ],
   "source": [
    "#조건문 9번 문제\n",
    "import random\n",
    "num1=random.randint(1,1000)\n",
    "num2=random.randint(1,1000)\n",
    "\n",
    "cal=random.randint(0,3) #이게 관건이었는데, 이사님이 보여줘서 알아버림;;\n",
    "\n",
    "if cal==0:\n",
    "    Que = num1+num2\n",
    "    print(f\"{num1}+{num2}=?\")\n",
    "    ans = int(input(\"답을 적으세요!\"))\n",
    "\n",
    "    if Que==ans:\n",
    "        print(\"정답!\")\n",
    "    else:\n",
    "        print(\"땡 탈락\")\n",
    "\n",
    "elif cal==1:\n",
    "    Que=num1-num2\n",
    "    print(f\"{num1}-{num2}=?\")\n",
    "    ans = int(input(\"답을 적으세요!\"))\n",
    "\n",
    "    if Que==ans:\n",
    "        print(\"정답!\")\n",
    "    else:\n",
    "        print(\"땡 탈락\")\n",
    "\n",
    "elif cal==2:\n",
    "    Que = num1*num2\n",
    "    print(f\"{num1}x{num2}=?\")\n",
    "    ans = int(input(\"답을 적으세요!\"))\n",
    "\n",
    "    if Que==ans:\n",
    "        print(\"정답!\")\n",
    "    else:\n",
    "        print(\"땡 탈락\")\n",
    "\n",
    "else:\n",
    "    Que = num1/num2\n",
    "    que = round(Que, 2)\n",
    "    print(f\"{num1}/{num2}=?\")\n",
    "    ans = float(input(\"답을 적으세요! 소수점이 필요하다면 소수점 2자리까지\"))\n",
    "\n",
    "    if que==ans:\n",
    "        print(\"정답!\")\n",
    "    else:\n",
    "        print(\"땡 탈락\")"
   ]
  },
  {
   "cell_type": "code",
   "execution_count": 55,
   "id": "319877ce",
   "metadata": {},
   "outputs": [
    {
     "name": "stdout",
     "output_type": "stream",
     "text": [
      "f =  237.75\n"
     ]
    }
   ],
   "source": [
    "#조건문 10번 문제\n",
    "x=float(input(\"실수를 넣어봐요. f값 풀어줄게요\"))\n",
    "if x<=0:\n",
    "    print(\"f = \", x**2-9*x+2)\n",
    "else :\n",
    "    print(\"f = \", 7*x+2)"
   ]
  }
 ],
 "metadata": {
  "kernelspec": {
   "display_name": ".venv",
   "language": "python",
   "name": "python3"
  },
  "language_info": {
   "codemirror_mode": {
    "name": "ipython",
    "version": 3
   },
   "file_extension": ".py",
   "mimetype": "text/x-python",
   "name": "python",
   "nbconvert_exporter": "python",
   "pygments_lexer": "ipython3",
   "version": "3.13.3"
  }
 },
 "nbformat": 4,
 "nbformat_minor": 5
}
